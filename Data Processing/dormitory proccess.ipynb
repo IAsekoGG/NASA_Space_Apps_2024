{
 "cells": [
  {
   "cell_type": "code",
   "execution_count": 1,
   "metadata": {},
   "outputs": [
    {
     "name": "stdout",
     "output_type": "stream",
     "text": [
      "Унікальні place_id для кожної локації були успішно створені та збережені.\n"
     ]
    }
   ],
   "source": [
    "import pandas as pd\n",
    "import hashlib\n",
    "\n",
    "\n",
    "\n",
    "# Функція для створення унікального place_id на основі координат (latitude і longitude)\n",
    "def generate_place_id(latitude, longitude):\n",
    "    coord_str = f\"{latitude},{longitude}\"\n",
    "    return hashlib.md5(coord_str.encode()).hexdigest()  # Використовуємо хеш для унікального ID\n",
    "\n",
    "# Створюємо новий стовпчик place_id для кожної унікальної пари координат\n",
    "df['place_id'] = df.apply(lambda row: generate_place_id(row['latitude'], row['longitude']), axis=1)\n",
    "\n",
    "# Збереження оновленого DataFrame у новий CSV-файл\n",
    "output_file_path = r\"C:\\Users\\a0494\\Hackatons\\NASA_Space_Apps_2024\\data\\Final data\\real_final_with_place_id.csv\"\n",
    "df.to_csv(output_file_path, index=False)\n",
    "\n",
    "print(\"Унікальні place_id для кожної локації були успішно створені та збережені.\")\n"
   ]
  },
  {
   "cell_type": "code",
   "execution_count": null,
   "metadata": {},
   "outputs": [],
   "source": [
    "Public Engagement Issues', 'Community Engagement', 'Quality of Services', 'Corruption in Privatization', 'Heating and Water Issues', 'Healthcare Access Issues', 'Judicial Integrity Issues', 'Hotel Quality Concerns', 'Community Support', 'Missing Pets', 'Job Opportunities', 'Healthcare Accessibility', 'Public Safety Concerns', 'Zoo Conditions"
   ]
  }
 ],
 "metadata": {
  "kernelspec": {
   "display_name": "Python 3",
   "language": "python",
   "name": "python3"
  },
  "language_info": {
   "codemirror_mode": {
    "name": "ipython",
    "version": 3
   },
   "file_extension": ".py",
   "mimetype": "text/x-python",
   "name": "python",
   "nbconvert_exporter": "python",
   "pygments_lexer": "ipython3",
   "version": "3.10.6"
  }
 },
 "nbformat": 4,
 "nbformat_minor": 2
}
