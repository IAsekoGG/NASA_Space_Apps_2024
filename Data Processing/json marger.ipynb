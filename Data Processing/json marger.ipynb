{
 "cells": [
  {
   "cell_type": "code",
   "execution_count": 5,
   "metadata": {},
   "outputs": [
    {
     "name": "stdout",
     "output_type": "stream",
     "text": [
      "Дані успішно збережені у файл 'combined_dormitory_data.csv'\n"
     ]
    }
   ],
   "source": [
    "import os\n",
    "import json\n",
    "import pandas as pd\n",
    "\n",
    "# Шляхи до JSON-файлів\n",
    "json_files = [\n",
    "    \"C:/Users/a0494/Hackatons/NASA_Space_Apps_2024/data/гуртожитки/7.json\",\n",
    "    \"C:/Users/a0494/Hackatons/NASA_Space_Apps_2024/data/гуртожитки/4.json\",\n",
    "    \"C:/Users/a0494/Hackatons/NASA_Space_Apps_2024/data/гуртожитки/8.json\",\n",
    "    \"C:/Users/a0494/Hackatons/NASA_Space_Apps_2024/data/гуртожитки/14.json\",\n",
    "    \"C:/Users/a0494/Hackatons/NASA_Space_Apps_2024/data/гуртожитки/16.json\",\n",
    "    \"C:/Users/a0494/Hackatons/NASA_Space_Apps_2024/data/гуртожитки/18.json\",\n",
    "    \"C:/Users/a0494/Hackatons/NASA_Space_Apps_2024/data/гуртожитки/20.json\",\n",
    "    \"C:/Users/a0494/Hackatons/NASA_Space_Apps_2024/data/гуртожитки/19.json\"\n",
    "]\n",
    "\n",
    "# Функція для витягнення номера гуртожитку з імені файлу\n",
    "def extract_dorm_number(file_path):\n",
    "    filename = os.path.basename(file_path)\n",
    "    dorm_number = filename.split()[0]  # Витягує перший елемент перед пробілом\n",
    "    return dorm_number\n",
    "\n",
    "# Об'єднаний список для всіх записів\n",
    "combined_data = []\n",
    "\n",
    "for file_path in json_files:\n",
    "    # Читаємо JSON-файл\n",
    "    with open(file_path, 'r', encoding='utf-8') as f:\n",
    "        data = json.load(f)\n",
    "        # Витягаємо номер гуртожитку\n",
    "        dorm_number = extract_dorm_number(file_path)\n",
    "        # Додаємо поле \"dorm_number\" до кожного запису\n",
    "        for entry in data:\n",
    "            entry['dorm_number'] = dorm_number\n",
    "        # Додаємо до загального списку\n",
    "        combined_data.extend(data)\n",
    "\n",
    "# Зберігаємо об'єднаний файл у CSV\n",
    "df = pd.DataFrame(combined_data)\n",
    "df.to_csv(\"combined_dormitory_data.csv\", index=False, encoding='utf-8')\n",
    "\n",
    "print(\"Дані успішно збережені у файл 'combined_dormitory_data.csv'\")\n"
   ]
  }
 ],
 "metadata": {
  "kernelspec": {
   "display_name": "Python 3",
   "language": "python",
   "name": "python3"
  },
  "language_info": {
   "codemirror_mode": {
    "name": "ipython",
    "version": 3
   },
   "file_extension": ".py",
   "mimetype": "text/x-python",
   "name": "python",
   "nbconvert_exporter": "python",
   "pygments_lexer": "ipython3",
   "version": "3.10.6"
  }
 },
 "nbformat": 4,
 "nbformat_minor": 2
}
