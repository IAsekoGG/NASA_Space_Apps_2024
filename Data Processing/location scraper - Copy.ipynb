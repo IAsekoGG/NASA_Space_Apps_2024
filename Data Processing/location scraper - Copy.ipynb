{
 "cells": [
  {
   "cell_type": "code",
   "execution_count": 11,
   "metadata": {},
   "outputs": [
    {
     "name": "stdout",
     "output_type": "stream",
     "text": [
      "Processing location: KPI Dormitory 4\n",
      "Failed to geocode KPI Dormitory 4 using LocationIQ. Status code: 404\n",
      "Geocoded (Google API): КПІ гуртожиток 4 -> Latitude: 50.4486105, Longitude: 30.45109369999999\n",
      "Processing location: KPI Dormitory 4\n",
      "Failed to geocode KPI Dormitory 4 using LocationIQ. Status code: 404\n",
      "Geocoded (Google API): КПІ гуртожиток 4 -> Latitude: 50.4486105, Longitude: 30.45109369999999\n",
      "Processing location: KPI Dormitory 4\n",
      "Failed to geocode KPI Dormitory 4 using LocationIQ. Status code: 404\n",
      "Geocoded (Google API): КПІ гуртожиток 4 -> Latitude: 50.4486105, Longitude: 30.45109369999999\n",
      "Processing location: KPI Dormitory 4\n",
      "Failed to geocode KPI Dormitory 4 using LocationIQ. Status code: 404\n",
      "Geocoded (Google API): КПІ гуртожиток 4 -> Latitude: 50.4486105, Longitude: 30.45109369999999\n",
      "Оновлений файл збережено. Оброблено 4 адрес(и). Виконано 0 запитів через LocationIQ. Виконано 4 запитів через Google\n"
     ]
    }
   ],
   "source": [
    "import json\n",
    "import requests\n",
    "\n",
    "# Шлях до файлу\n",
    "file_path = r\"C:\\Users\\a0494\\Hackatons\\NASA_Space_Apps_2024\\data\\Гуртожиток #4 КПІ_6_locations.json\"\n",
    "updated_file_path = r\"C:\\Users\\a0494\\Hackatons\\NASA_Space_Apps_2024\\data\\Гуртожиток #4 КПІ_6_locations_updated.json\"\n",
    "\n",
    "\n",
    "\n",
    "# Ліміт запитів\n",
    "REQUEST_LIMIT = 1000\n",
    "request_count = 0\n",
    "request_count_google = 0\n",
    "# Функція для геокодування локацій за допомогою LocationIQ\n",
    "def geocode_location(location, city=\"Київ\", country=\"Україна\"):\n",
    "\n",
    "    return None, None\n",
    "\n",
    "# Завантажуємо JSON файл\n",
    "with open(file_path, 'r', encoding='utf-8') as f:\n",
    "    data = json.load(f)\n",
    "\n",
    "# Лічильник оброблених адрес\n",
    "processed_addresses = 0\n",
    "\n",
    "# Обробляємо записи в файлі\n",
    "for entry in data:\n",
    "    if entry.get(\"location_type\") == 'exact location':\n",
    "        location = entry.get('location')\n",
    "        if location:\n",
    "            location_str = ', '.join(location)  # Об'єднуємо масив локацій в строку\n",
    "            print(f\"Processing location: {location_str}\")\n",
    "            # Геокодуємо адресу через LocationIQ\n",
    "            lat, lon = geocode_location(location_str)\n",
    "            \n",
    "            # Якщо адреса не знаходиться в Києві, використовуємо Google API\n",
    "            if (lat is None or lon is None) and request_count < REQUEST_LIMIT:\n",
    "                lat, lon = geocode_location(location_str)\n",
    "                request_count_google += 1\n",
    "\n",
    "            if lat and lon:\n",
    "                # Додаємо широту і довготу до запису\n",
    "                entry['latitude'] = lat\n",
    "                entry['longitude'] = lon\n",
    "                processed_addresses += 1\n",
    "            else:\n",
    "                print(f\"Could not geocode location: {location_str}\")\n",
    "        else:\n",
    "            print(\"No location found in entry.\")\n",
    "    else:\n",
    "        print(f\"Skipping entry with location_type: {entry.get('location_type')}\")\n",
    "\n",
    "# Записуємо оновлений файл\n",
    "with open(updated_file_path, 'w', encoding='utf-8') as f:\n",
    "    json.dump(data, f, ensure_ascii=False, indent=4)\n",
    "\n",
    "print(f\"Оновлений файл збережено. Оброблено {processed_addresses} адрес(и). Виконано {request_count} запитів через LocationIQ. Виконано {request_count_google} запитів через Google\")\n"
   ]
  }
 ],
 "metadata": {
  "kernelspec": {
   "display_name": "Python 3",
   "language": "python",
   "name": "python3"
  },
  "language_info": {
   "codemirror_mode": {
    "name": "ipython",
    "version": 3
   },
   "file_extension": ".py",
   "mimetype": "text/x-python",
   "name": "python",
   "nbconvert_exporter": "python",
   "pygments_lexer": "ipython3",
   "version": "3.10.6"
  }
 },
 "nbformat": 4,
 "nbformat_minor": 2
}
