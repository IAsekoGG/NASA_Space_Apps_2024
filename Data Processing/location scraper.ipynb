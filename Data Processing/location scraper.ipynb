{
 "cells": [
  {
   "cell_type": "code",
   "execution_count": 1,
   "metadata": {},
   "outputs": [
    {
     "name": "stdout",
     "output_type": "stream",
     "text": [
      "Широта: 50.44333105, Довгота: 30.437891675624538\n"
     ]
    }
   ],
   "source": [
    "import requests\n",
    "\n",
    "address = \" бізон, Солом'янський район, Київ, Україна\"\n",
    "nominatim_url = f\"https://nominatim.openstreetmap.org/search?q={address}&format=json\"\n",
    "response = requests.get(nominatim_url)\n",
    "location = response.json()[0]\n",
    "\n",
    "print(f\"Широта: {location['lat']}, Довгота: {location['lon']}\")\n"
   ]
  },
  {
   "cell_type": "code",
   "execution_count": 9,
   "metadata": {},
   "outputs": [
    {
     "name": "stdout",
     "output_type": "stream",
     "text": [
      "Помилка запиту: 403\n",
      "Нічого не знайдено.\n"
     ]
    }
   ],
   "source": []
  },
  {
   "cell_type": "code",
   "execution_count": null,
   "metadata": {},
   "outputs": [],
   "source": []
  }
 ],
 "metadata": {
  "kernelspec": {
   "display_name": "Python 3",
   "language": "python",
   "name": "python3"
  },
  "language_info": {
   "codemirror_mode": {
    "name": "ipython",
    "version": 3
   },
   "file_extension": ".py",
   "mimetype": "text/x-python",
   "name": "python",
   "nbconvert_exporter": "python",
   "pygments_lexer": "ipython3",
   "version": "3.10.6"
  }
 },
 "nbformat": 4,
 "nbformat_minor": 2
}
